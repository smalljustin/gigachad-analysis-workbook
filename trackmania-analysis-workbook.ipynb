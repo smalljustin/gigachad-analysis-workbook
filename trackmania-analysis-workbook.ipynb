{
 "cells": [
  {
   "cell_type": "markdown",
   "id": "2e139be5",
   "metadata": {},
   "source": [
    "# Introduction and Usage Guidelines\n",
    "\n",
    "This notebook is designed as a base for analysis for Trackmania's physics. \n",
    "\n",
    "You can view API documentation here: http://localhost:8080/swagger-ui/index.html#, in the 'out' controller section. \n",
    "\n",
    "(The 'in' section is what API is used by the GigaChad Collector (GCC) from within Trackmania.)"
   ]
  },
  {
   "cell_type": "code",
   "execution_count": 1,
   "id": "ca7a3e5c",
   "metadata": {},
   "outputs": [
    {
     "name": "stdout",
     "output_type": "stream",
     "text": [
      "Current documentation page: http://gigachad.justinjschmitz.com:21532/swagger-ui/index.html\n"
     ]
    }
   ],
   "source": [
    "import pandas as pd\n",
    "import requests\n",
    "import matplotlib.pyplot as plt\n",
    "\n",
    "# optional - makes plots pop out. highly recommended\n",
    "# %matplotlib qt\n",
    "\n",
    "# no trailing slash\n",
    "url_prod = \"http://gigachad.justinjschmitz.com:21532\";\n",
    "url_dev = \"http://localhost:8080\";\n",
    "\n",
    "SERVER_PATH = url_prod\n",
    "\n",
    "SWAGGER_PATH = f\"{SERVER_PATH}/swagger-ui/index.html\"\n",
    "\n",
    "print(f\"Current documentation page: {SWAGGER_PATH}\")\n"
   ]
  },
  {
   "cell_type": "markdown",
   "id": "839acf5d",
   "metadata": {},
   "source": [
    "## Data Selection\n",
    "\n",
    "### \"Maptags\" vs \"Runkeys\" \n",
    "\n",
    "This is kind of an arbitrary convention, but:\n",
    "* Map tags are for general surface use. \n",
    "* Runkeys are for specific study use. \n",
    "\n",
    "E.g., if you wanted to just look at how the stadium car drives on dirt, then you can pull the map tag 'stadium - dirt' and you'll have all that data. \n",
    "\n",
    "But, if you were doing some novel study (like trying to 2 wheel the rally car, or something) and wanted *just* that data, then make sure you set that as the the underlying runkey. That way, you're not pulling in more than you need to. \n",
    "\n"
   ]
  },
  {
   "cell_type": "code",
   "execution_count": 2,
   "id": "bc981876",
   "metadata": {},
   "outputs": [
    {
     "data": {
      "text/html": [
       "<div>\n",
       "<style scoped>\n",
       "    .dataframe tbody tr th:only-of-type {\n",
       "        vertical-align: middle;\n",
       "    }\n",
       "\n",
       "    .dataframe tbody tr th {\n",
       "        vertical-align: top;\n",
       "    }\n",
       "\n",
       "    .dataframe thead th {\n",
       "        text-align: right;\n",
       "    }\n",
       "</style>\n",
       "<table border=\"1\" class=\"dataframe\">\n",
       "  <thead>\n",
       "    <tr style=\"text-align: right;\">\n",
       "      <th></th>\n",
       "      <th>mtId</th>\n",
       "      <th>mapUuid</th>\n",
       "      <th>tag</th>\n",
       "      <th>username</th>\n",
       "    </tr>\n",
       "  </thead>\n",
       "  <tbody>\n",
       "    <tr>\n",
       "      <th>0</th>\n",
       "      <td>2</td>\n",
       "      <td>bu5OUM_XDFQ7w_vnhQOopNsyJQ8</td>\n",
       "      <td>dirt - stadium</td>\n",
       "      <td>sgt_bigbird</td>\n",
       "    </tr>\n",
       "    <tr>\n",
       "      <th>1</th>\n",
       "      <td>3</td>\n",
       "      <td>nDqOzuoWkPUJ9m74q0ihDVlTFn7</td>\n",
       "      <td>dirt - snow</td>\n",
       "      <td>sgt_bigbird</td>\n",
       "    </tr>\n",
       "    <tr>\n",
       "      <th>2</th>\n",
       "      <td>4</td>\n",
       "      <td>OuHxc71KtYLTkb7r6AmJcHCbbz8</td>\n",
       "      <td>dirt - rally</td>\n",
       "      <td>sgt_bigbird</td>\n",
       "    </tr>\n",
       "    <tr>\n",
       "      <th>3</th>\n",
       "      <td>5</td>\n",
       "      <td>M92iB3BWeAsGChHVL6QqqtAnNC6</td>\n",
       "      <td>dirt - desert</td>\n",
       "      <td>sgt_bigbird</td>\n",
       "    </tr>\n",
       "  </tbody>\n",
       "</table>\n",
       "</div>"
      ],
      "text/plain": [
       "   mtId                      mapUuid             tag     username\n",
       "0     2  bu5OUM_XDFQ7w_vnhQOopNsyJQ8  dirt - stadium  sgt_bigbird\n",
       "1     3  nDqOzuoWkPUJ9m74q0ihDVlTFn7     dirt - snow  sgt_bigbird\n",
       "2     4  OuHxc71KtYLTkb7r6AmJcHCbbz8    dirt - rally  sgt_bigbird\n",
       "3     5  M92iB3BWeAsGChHVL6QqqtAnNC6   dirt - desert  sgt_bigbird"
      ]
     },
     "metadata": {},
     "output_type": "display_data"
    },
    {
     "data": {
      "text/html": [
       "<div>\n",
       "<style scoped>\n",
       "    .dataframe tbody tr th:only-of-type {\n",
       "        vertical-align: middle;\n",
       "    }\n",
       "\n",
       "    .dataframe tbody tr th {\n",
       "        vertical-align: top;\n",
       "    }\n",
       "\n",
       "    .dataframe thead th {\n",
       "        text-align: right;\n",
       "    }\n",
       "</style>\n",
       "<table border=\"1\" class=\"dataframe\">\n",
       "  <thead>\n",
       "    <tr style=\"text-align: right;\">\n",
       "      <th></th>\n",
       "      <th>rkId</th>\n",
       "      <th>name</th>\n",
       "      <th>mode</th>\n",
       "    </tr>\n",
       "  </thead>\n",
       "  <tbody>\n",
       "    <tr>\n",
       "      <th>0</th>\n",
       "      <td>102</td>\n",
       "      <td>default</td>\n",
       "      <td>1</td>\n",
       "    </tr>\n",
       "  </tbody>\n",
       "</table>\n",
       "</div>"
      ],
      "text/plain": [
       "   rkId     name  mode\n",
       "0   102  default     1"
      ]
     },
     "metadata": {},
     "output_type": "display_data"
    }
   ],
   "source": [
    "maptags = requests.get(f\"{SERVER_PATH}/out/maptag\")\n",
    "runkeys = requests.get(f\"{SERVER_PATH}/out/runkey\")\n",
    "maptags_df = pd.json_normalize(maptags.json())\n",
    "runkeys_df = pd.json_normalize(runkeys.json())\n",
    "display(maptags_df)\n",
    "display(runkeys_df)\n",
    "\n",
    "# change these values with 'tag' and 'name' respectively\n",
    "\n",
    "SELECTED_MAPTAG = 'stadium - dirt'\n",
    "SELECTED_RUNKEY = 'test2'\n"
   ]
  },
  {
   "cell_type": "code",
   "execution_count": 3,
   "id": "a844588e",
   "metadata": {},
   "outputs": [
    {
     "name": "stdout",
     "output_type": "stream",
     "text": [
      "Loaded 113 chars of maptag data, 116 chars of runkey data\n"
     ]
    }
   ],
   "source": [
    "# For 'maptag' data:\n",
    "maptag_data = requests.get(f\"{SERVER_PATH}/out/data/tag\", params={\"tag\": SELECTED_MAPTAG})\n",
    "# For 'runkey' data:\n",
    "runkey_data = requests.get(f\"{SERVER_PATH}/out/data/runkey\", params={\"runkey\": SELECTED_RUNKEY})\n",
    "\n",
    "print(f\"Loaded {len(maptag_data.text)} chars of maptag data, {len(runkey_data.text)} chars of runkey data\")"
   ]
  },
  {
   "cell_type": "code",
   "execution_count": 4,
   "id": "9f530549",
   "metadata": {},
   "outputs": [],
   "source": [
    "data = maptag_data\n",
    "# data = runkey_data\n",
    "df = pd.json_normalize(data.json())"
   ]
  },
  {
   "cell_type": "code",
   "execution_count": 5,
   "id": "d26b03a4",
   "metadata": {
    "scrolled": false
   },
   "outputs": [
    {
     "ename": "KeyError",
     "evalue": "'speed'",
     "output_type": "error",
     "traceback": [
      "\u001b[1;31m---------------------------------------------------------------------------\u001b[0m",
      "\u001b[1;31mKeyError\u001b[0m                                  Traceback (most recent call last)",
      "File \u001b[1;32m~\\anaconda3\\lib\\site-packages\\pandas\\core\\indexes\\base.py:3621\u001b[0m, in \u001b[0;36mIndex.get_loc\u001b[1;34m(self, key, method, tolerance)\u001b[0m\n\u001b[0;32m   3620\u001b[0m \u001b[38;5;28;01mtry\u001b[39;00m:\n\u001b[1;32m-> 3621\u001b[0m     \u001b[38;5;28;01mreturn\u001b[39;00m \u001b[38;5;28;43mself\u001b[39;49m\u001b[38;5;241;43m.\u001b[39;49m\u001b[43m_engine\u001b[49m\u001b[38;5;241;43m.\u001b[39;49m\u001b[43mget_loc\u001b[49m\u001b[43m(\u001b[49m\u001b[43mcasted_key\u001b[49m\u001b[43m)\u001b[49m\n\u001b[0;32m   3622\u001b[0m \u001b[38;5;28;01mexcept\u001b[39;00m \u001b[38;5;167;01mKeyError\u001b[39;00m \u001b[38;5;28;01mas\u001b[39;00m err:\n",
      "File \u001b[1;32m~\\anaconda3\\lib\\site-packages\\pandas\\_libs\\index.pyx:136\u001b[0m, in \u001b[0;36mpandas._libs.index.IndexEngine.get_loc\u001b[1;34m()\u001b[0m\n",
      "File \u001b[1;32m~\\anaconda3\\lib\\site-packages\\pandas\\_libs\\index.pyx:163\u001b[0m, in \u001b[0;36mpandas._libs.index.IndexEngine.get_loc\u001b[1;34m()\u001b[0m\n",
      "File \u001b[1;32mpandas\\_libs\\hashtable_class_helper.pxi:5198\u001b[0m, in \u001b[0;36mpandas._libs.hashtable.PyObjectHashTable.get_item\u001b[1;34m()\u001b[0m\n",
      "File \u001b[1;32mpandas\\_libs\\hashtable_class_helper.pxi:5206\u001b[0m, in \u001b[0;36mpandas._libs.hashtable.PyObjectHashTable.get_item\u001b[1;34m()\u001b[0m\n",
      "\u001b[1;31mKeyError\u001b[0m: 'speed'",
      "\nThe above exception was the direct cause of the following exception:\n",
      "\u001b[1;31mKeyError\u001b[0m                                  Traceback (most recent call last)",
      "Input \u001b[1;32mIn [5]\u001b[0m, in \u001b[0;36m<cell line: 7>\u001b[1;34m()\u001b[0m\n\u001b[0;32m      1\u001b[0m \u001b[38;5;66;03m# Example: Graph of acceleration at different slide angles\u001b[39;00m\n\u001b[0;32m      2\u001b[0m \n\u001b[0;32m      3\u001b[0m \u001b[38;5;66;03m## Preprocess: \u001b[39;00m\n\u001b[0;32m      4\u001b[0m \n\u001b[0;32m      5\u001b[0m \u001b[38;5;66;03m# Acceleration isn't natively provided - do .diff() for this and any other derivatives you want to calculate\u001b[39;00m\n\u001b[0;32m      6\u001b[0m \u001b[38;5;66;03m# You can do a rolling average, too, depending on usage\u001b[39;00m\n\u001b[1;32m----> 7\u001b[0m df[\u001b[38;5;124m\"\u001b[39m\u001b[38;5;124macc\u001b[39m\u001b[38;5;124m\"\u001b[39m] \u001b[38;5;241m=\u001b[39m \u001b[43mdf\u001b[49m\u001b[43m[\u001b[49m\u001b[38;5;124;43m\"\u001b[39;49m\u001b[38;5;124;43mspeed\u001b[39;49m\u001b[38;5;124;43m\"\u001b[39;49m\u001b[43m]\u001b[49m\u001b[38;5;241m.\u001b[39mdiff()\n\u001b[0;32m      9\u001b[0m \u001b[38;5;66;03m## Filter:\u001b[39;00m\n\u001b[0;32m     11\u001b[0m df \u001b[38;5;241m=\u001b[39m df[\u001b[38;5;28mabs\u001b[39m(df[\u001b[38;5;124m\"\u001b[39m\u001b[38;5;124macc\u001b[39m\u001b[38;5;124m\"\u001b[39m]) \u001b[38;5;241m<\u001b[39m \u001b[38;5;241m0.5\u001b[39m]\n",
      "File \u001b[1;32m~\\anaconda3\\lib\\site-packages\\pandas\\core\\frame.py:3505\u001b[0m, in \u001b[0;36mDataFrame.__getitem__\u001b[1;34m(self, key)\u001b[0m\n\u001b[0;32m   3503\u001b[0m \u001b[38;5;28;01mif\u001b[39;00m \u001b[38;5;28mself\u001b[39m\u001b[38;5;241m.\u001b[39mcolumns\u001b[38;5;241m.\u001b[39mnlevels \u001b[38;5;241m>\u001b[39m \u001b[38;5;241m1\u001b[39m:\n\u001b[0;32m   3504\u001b[0m     \u001b[38;5;28;01mreturn\u001b[39;00m \u001b[38;5;28mself\u001b[39m\u001b[38;5;241m.\u001b[39m_getitem_multilevel(key)\n\u001b[1;32m-> 3505\u001b[0m indexer \u001b[38;5;241m=\u001b[39m \u001b[38;5;28;43mself\u001b[39;49m\u001b[38;5;241;43m.\u001b[39;49m\u001b[43mcolumns\u001b[49m\u001b[38;5;241;43m.\u001b[39;49m\u001b[43mget_loc\u001b[49m\u001b[43m(\u001b[49m\u001b[43mkey\u001b[49m\u001b[43m)\u001b[49m\n\u001b[0;32m   3506\u001b[0m \u001b[38;5;28;01mif\u001b[39;00m is_integer(indexer):\n\u001b[0;32m   3507\u001b[0m     indexer \u001b[38;5;241m=\u001b[39m [indexer]\n",
      "File \u001b[1;32m~\\anaconda3\\lib\\site-packages\\pandas\\core\\indexes\\base.py:3623\u001b[0m, in \u001b[0;36mIndex.get_loc\u001b[1;34m(self, key, method, tolerance)\u001b[0m\n\u001b[0;32m   3621\u001b[0m     \u001b[38;5;28;01mreturn\u001b[39;00m \u001b[38;5;28mself\u001b[39m\u001b[38;5;241m.\u001b[39m_engine\u001b[38;5;241m.\u001b[39mget_loc(casted_key)\n\u001b[0;32m   3622\u001b[0m \u001b[38;5;28;01mexcept\u001b[39;00m \u001b[38;5;167;01mKeyError\u001b[39;00m \u001b[38;5;28;01mas\u001b[39;00m err:\n\u001b[1;32m-> 3623\u001b[0m     \u001b[38;5;28;01mraise\u001b[39;00m \u001b[38;5;167;01mKeyError\u001b[39;00m(key) \u001b[38;5;28;01mfrom\u001b[39;00m \u001b[38;5;21;01merr\u001b[39;00m\n\u001b[0;32m   3624\u001b[0m \u001b[38;5;28;01mexcept\u001b[39;00m \u001b[38;5;167;01mTypeError\u001b[39;00m:\n\u001b[0;32m   3625\u001b[0m     \u001b[38;5;66;03m# If we have a listlike key, _check_indexing_error will raise\u001b[39;00m\n\u001b[0;32m   3626\u001b[0m     \u001b[38;5;66;03m#  InvalidIndexError. Otherwise we fall through and re-raise\u001b[39;00m\n\u001b[0;32m   3627\u001b[0m     \u001b[38;5;66;03m#  the TypeError.\u001b[39;00m\n\u001b[0;32m   3628\u001b[0m     \u001b[38;5;28mself\u001b[39m\u001b[38;5;241m.\u001b[39m_check_indexing_error(key)\n",
      "\u001b[1;31mKeyError\u001b[0m: 'speed'"
     ]
    }
   ],
   "source": [
    "# Example: Graph of acceleration at different slide angles\n",
    "\n",
    "## Preprocess: \n",
    "\n",
    "# Acceleration isn't natively provided - do .diff() for this and any other derivatives you want to calculate\n",
    "# You can do a rolling average, too, depending on usage\n",
    "df[\"acc\"] = df[\"speed\"].diff()\n",
    "\n",
    "## Filter:\n",
    "\n",
    "df = df[abs(df[\"acc\"]) < 0.5]\n",
    "\n",
    "## Now scatter the data \n",
    "plt.scatter(x=df[\"slipDir\"], y=df[\"acc\"], c=df[\"speed\"], alpha=1)\n",
    "plt.show()"
   ]
  }
 ],
 "metadata": {
  "kernelspec": {
   "display_name": "Python 3 (ipykernel)",
   "language": "python",
   "name": "python3"
  },
  "language_info": {
   "codemirror_mode": {
    "name": "ipython",
    "version": 3
   },
   "file_extension": ".py",
   "mimetype": "text/x-python",
   "name": "python",
   "nbconvert_exporter": "python",
   "pygments_lexer": "ipython3",
   "version": "3.9.12"
  }
 },
 "nbformat": 4,
 "nbformat_minor": 5
}
