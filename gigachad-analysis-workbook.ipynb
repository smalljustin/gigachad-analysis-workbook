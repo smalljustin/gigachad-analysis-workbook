{
 "cells": [
  {
   "cell_type": "markdown",
   "id": "2e139be5",
   "metadata": {},
   "source": [
    "# Introduction and Usage Guidelines\n",
    "\n",
    "This notebook is designed as a base for analysis for Trackmania's physics. \n",
    "\n",
    "I'm running a small web server that collects and distributes collected map data from users using the Gigachad Collector plugin. \n",
    "\n",
    "(The 'in' section of the API is used by the GigaChad Collector (GCC) from within Trackmania.)"
   ]
  },
  {
   "cell_type": "code",
   "execution_count": 1,
   "id": "ca7a3e5c",
   "metadata": {},
   "outputs": [
    {
     "name": "stdout",
     "output_type": "stream",
     "text": [
      "Current documentation page: http://gigachad.justinjschmitz.com:21532/swagger-ui/index.html\n"
     ]
    }
   ],
   "source": [
    "import pandas as pd\n",
    "import requests\n",
    "import matplotlib.pyplot as plt\n",
    "\n",
    "# optional - makes plots pop out. highly recommended. disabled for rendering in git\n",
    "#%matplotlib qt\n",
    "\n",
    "# no trailing slash\n",
    "url_prod = \"http://gigachad.justinjschmitz.com:21532\";\n",
    "url_dev = \"http://localhost:8080\";\n",
    "\n",
    "SERVER_PATH = url_prod\n",
    "\n",
    "SWAGGER_PATH = f\"{SERVER_PATH}/swagger-ui/index.html\"\n",
    "\n",
    "print(f\"Current documentation page: {SWAGGER_PATH}\")\n"
   ]
  },
  {
   "cell_type": "markdown",
   "id": "839acf5d",
   "metadata": {},
   "source": [
    "## Data Selection\n",
    "\n",
    "### \"Maptags\" vs \"Runkeys\" \n",
    "\n",
    "This is kind of an arbitrary convention, but:\n",
    "* Map tags are for general surface use. \n",
    "* Runkeys are for specific study use. \n",
    "\n",
    "E.g., if you wanted to just look at how the stadium car drives on dirt, then you can pull the map tag 'stadium - dirt' and you'll have all that data. \n",
    "\n",
    "But, if you were doing some novel study (like trying to 2 wheel the rally car, or something) and wanted *just* that data, then make sure you set that as the the underlying runkey. That way, you're not pulling in more than you need to. \n",
    "\n"
   ]
  },
  {
   "cell_type": "code",
   "execution_count": 2,
   "id": "bc981876",
   "metadata": {},
   "outputs": [
    {
     "data": {
      "text/html": [
       "<div>\n",
       "<style scoped>\n",
       "    .dataframe tbody tr th:only-of-type {\n",
       "        vertical-align: middle;\n",
       "    }\n",
       "\n",
       "    .dataframe tbody tr th {\n",
       "        vertical-align: top;\n",
       "    }\n",
       "\n",
       "    .dataframe thead th {\n",
       "        text-align: right;\n",
       "    }\n",
       "</style>\n",
       "<table border=\"1\" class=\"dataframe\">\n",
       "  <thead>\n",
       "    <tr style=\"text-align: right;\">\n",
       "      <th></th>\n",
       "      <th>mtId</th>\n",
       "      <th>mapUuid</th>\n",
       "      <th>tag</th>\n",
       "      <th>username</th>\n",
       "    </tr>\n",
       "  </thead>\n",
       "  <tbody>\n",
       "    <tr>\n",
       "      <th>0</th>\n",
       "      <td>2</td>\n",
       "      <td>bu5OUM_XDFQ7w_vnhQOopNsyJQ8</td>\n",
       "      <td>dirt - stadium</td>\n",
       "      <td>sgt_bigbird</td>\n",
       "    </tr>\n",
       "    <tr>\n",
       "      <th>1</th>\n",
       "      <td>3</td>\n",
       "      <td>nDqOzuoWkPUJ9m74q0ihDVlTFn7</td>\n",
       "      <td>dirt - snow</td>\n",
       "      <td>sgt_bigbird</td>\n",
       "    </tr>\n",
       "    <tr>\n",
       "      <th>2</th>\n",
       "      <td>4</td>\n",
       "      <td>OuHxc71KtYLTkb7r6AmJcHCbbz8</td>\n",
       "      <td>dirt - rally</td>\n",
       "      <td>sgt_bigbird</td>\n",
       "    </tr>\n",
       "    <tr>\n",
       "      <th>3</th>\n",
       "      <td>5</td>\n",
       "      <td>M92iB3BWeAsGChHVL6QqqtAnNC6</td>\n",
       "      <td>dirt - desert</td>\n",
       "      <td>sgt_bigbird</td>\n",
       "    </tr>\n",
       "    <tr>\n",
       "      <th>4</th>\n",
       "      <td>6</td>\n",
       "      <td>LEGACY</td>\n",
       "      <td>legacy</td>\n",
       "      <td>sgt_bigbird</td>\n",
       "    </tr>\n",
       "  </tbody>\n",
       "</table>\n",
       "</div>"
      ],
      "text/plain": [
       "   mtId                      mapUuid             tag     username\n",
       "0     2  bu5OUM_XDFQ7w_vnhQOopNsyJQ8  dirt - stadium  sgt_bigbird\n",
       "1     3  nDqOzuoWkPUJ9m74q0ihDVlTFn7     dirt - snow  sgt_bigbird\n",
       "2     4  OuHxc71KtYLTkb7r6AmJcHCbbz8    dirt - rally  sgt_bigbird\n",
       "3     5  M92iB3BWeAsGChHVL6QqqtAnNC6   dirt - desert  sgt_bigbird\n",
       "4     6                       LEGACY          legacy  sgt_bigbird"
      ]
     },
     "metadata": {},
     "output_type": "display_data"
    },
    {
     "data": {
      "text/html": [
       "<div>\n",
       "<style scoped>\n",
       "    .dataframe tbody tr th:only-of-type {\n",
       "        vertical-align: middle;\n",
       "    }\n",
       "\n",
       "    .dataframe tbody tr th {\n",
       "        vertical-align: top;\n",
       "    }\n",
       "\n",
       "    .dataframe thead th {\n",
       "        text-align: right;\n",
       "    }\n",
       "</style>\n",
       "<table border=\"1\" class=\"dataframe\">\n",
       "  <thead>\n",
       "    <tr style=\"text-align: right;\">\n",
       "      <th></th>\n",
       "      <th>rkId</th>\n",
       "      <th>name</th>\n",
       "      <th>mode</th>\n",
       "    </tr>\n",
       "  </thead>\n",
       "  <tbody>\n",
       "    <tr>\n",
       "      <th>0</th>\n",
       "      <td>102</td>\n",
       "      <td>default</td>\n",
       "      <td>1</td>\n",
       "    </tr>\n",
       "    <tr>\n",
       "      <th>1</th>\n",
       "      <td>103</td>\n",
       "      <td>legacy</td>\n",
       "      <td>1</td>\n",
       "    </tr>\n",
       "  </tbody>\n",
       "</table>\n",
       "</div>"
      ],
      "text/plain": [
       "   rkId     name  mode\n",
       "0   102  default     1\n",
       "1   103   legacy     1"
      ]
     },
     "metadata": {},
     "output_type": "display_data"
    }
   ],
   "source": [
    "maptags = requests.get(f\"{SERVER_PATH}/out/maptag\")\n",
    "runkeys = requests.get(f\"{SERVER_PATH}/out/runkey\")\n",
    "maptags_df = pd.json_normalize(maptags.json())\n",
    "runkeys_df = pd.json_normalize(runkeys.json())\n",
    "display(maptags_df)\n",
    "display(runkeys_df)\n",
    "\n",
    "# change these values with 'tag' and 'name' respectively\n",
    "\n",
    "# 'legacy' for all of my old training data \n",
    "# it's ~250mb of data - please be courtious in pulling this one. i do not want to have to deal with rate limiting\n",
    "SELECTED_MAPTAG = 'dirt - stadium' \n",
    "SELECTED_RUNKEY = 'default'\n"
   ]
  },
  {
   "cell_type": "code",
   "execution_count": 3,
   "id": "a844588e",
   "metadata": {},
   "outputs": [
    {
     "name": "stdout",
     "output_type": "stream",
     "text": [
      "Loaded 3566552 chars of maptag data, 3566552 chars of runkey data\n"
     ]
    }
   ],
   "source": [
    "# For 'maptag' data:\n",
    "maptag_data = requests.get(f\"{SERVER_PATH}/out/data/tag\", params={\"tag\": SELECTED_MAPTAG})\n",
    "# For 'runkey' data:\n",
    "runkey_data = requests.get(f\"{SERVER_PATH}/out/data/runkey\", params={\"runkey\": SELECTED_RUNKEY})\n",
    "\n",
    "print(f\"Loaded {len(maptag_data.text)} chars of maptag data, {len(runkey_data.text)} chars of runkey data\")"
   ]
  },
  {
   "cell_type": "code",
   "execution_count": 4,
   "id": "9f530549",
   "metadata": {},
   "outputs": [],
   "source": [
    "# data = maptag_data\n",
    "data = runkey_data\n",
    "df = pd.json_normalize(data.json())"
   ]
  },
  {
   "cell_type": "code",
   "execution_count": 5,
   "id": "d26b03a4",
   "metadata": {
    "scrolled": false
   },
   "outputs": [
    {
     "data": {
      "image/png": "[encoded data removed]",
      "text/plain": [
       "<Figure size 432x288 with 1 Axes>"
      ]
     },
     "metadata": {
      "needs_background": "light"
     },
     "output_type": "display_data"
    }
   ],
   "source": [
    "# Example: Graph of acceleration at different slide angles\n",
    "\n",
    "## Preprocess: \n",
    "\n",
    "# Acceleration isn't natively provided - do .diff() for this and any other derivatives you want to calculate\n",
    "# You can do a rolling average, too, depending on usage\n",
    "df[\"acc\"] = df[\"speed\"].diff()\n",
    "\n",
    "## Filter:\n",
    "\n",
    "df = df[abs(df[\"acc\"]) < 0.5]\n",
    "\n",
    "## Now scatter the data \n",
    "plt.scatter(x=df[\"slipDir\"], y=df[\"acc\"], c=df[\"speed\"], alpha=0.3)\n",
    "plt.show()"
   ]
  }
 ],
 "metadata": {
  "kernelspec": {
   "display_name": "Python 3 (ipykernel)",
   "language": "python",
   "name": "python3"
  },
  "language_info": {
   "codemirror_mode": {
    "name": "ipython",
    "version": 3
   },
   "file_extension": ".py",
   "mimetype": "text/x-python",
   "name": "python",
   "nbconvert_exporter": "python",
   "pygments_lexer": "ipython3",
   "version": "3.9.12"
  }
 },
 "nbformat": 4,
 "nbformat_minor": 5
}
